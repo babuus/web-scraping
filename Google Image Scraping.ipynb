{
  "nbformat": 4,
  "nbformat_minor": 0,
  "metadata": {
    "colab": {
      "name": "Web Scrapper.ipynb",
      "provenance": [],
      "authorship_tag": "ABX9TyNwvedi6bmzclFwRsGBl++c",
      "include_colab_link": true
    },
    "kernelspec": {
      "name": "python3",
      "display_name": "Python 3"
    },
    "language_info": {
      "name": "python"
    }
  },
  "cells": [
    {
      "cell_type": "markdown",
      "metadata": {
        "id": "view-in-github",
        "colab_type": "text"
      },
      "source": [
        "<a href=\"https://colab.research.google.com/github/babuus/web-scraping/blob/master/Google%20Image%20Scraping.ipynb\" target=\"_parent\"><img src=\"https://colab.research.google.com/assets/colab-badge.svg\" alt=\"Open In Colab\"/></a>"
      ]
    },
    {
      "cell_type": "code",
      "metadata": {
        "id": "6SHqqBwz8Xoy"
      },
      "source": [
        "import selenium\n",
        "from selenium import webdriver\n",
        "import time\n",
        "from PIL import Image\n",
        "import io\n",
        "import time\n",
        "import numpy as np\n",
        "import requests\n",
        "from webdriver_manager.chrome import ChromeDriverManager\n",
        "from selenium.common.exceptions import ElementClickInterceptedException\n",
        "from bs4 import BeautifulSoup"
      ],
      "execution_count": 152,
      "outputs": []
    },
    {
      "cell_type": "code",
      "metadata": {
        "id": "wJZjsry_9RTh"
      },
      "source": [
        "driver = webdriver.Chrome('chromedriver.exe')"
      ],
      "execution_count": 13,
      "outputs": []
    },
    {
      "cell_type": "code",
      "metadata": {
        "id": "e4jbAEI5USR1"
      },
      "source": [
        "driver.execute_script(\"window.scrollTo(0,document.body.scrollHeight)\")"
      ],
      "execution_count": 120,
      "outputs": []
    },
    {
      "cell_type": "code",
      "metadata": {
        "id": "bXtpooHHoG_g"
      },
      "source": [
        "path = '//*[@id=\"Sva75c\"]/div/div/div[3]/div[2]/c-wiz/div/div[1]/div[1]/div[2]/div/a'"
      ],
      "execution_count": 140,
      "outputs": []
    },
    {
      "cell_type": "code",
      "metadata": {
        "colab": {
          "base_uri": "https://localhost:8080/"
        },
        "id": "XvmeRrZjzVEs",
        "outputId": "b45bd443-0b48-4e8f-cbb9-2795cba55883"
      },
      "source": [
        "click_window = driver.find_element_by_xpath(path)\n",
        "soup = BeautifulSoup(click_window.get_attribute('innerHTML'), 'html.parser')\n",
        "soup.img['src']"
      ],
      "execution_count": 150,
      "outputs": [
        {
          "output_type": "execute_result",
          "data": {
            "text/plain": [
              "'https://hips.hearstapps.com/hmg-prod.s3.amazonaws.com/images/portrait-of-cat-sitting-on-sofa-at-home-royalty-free-image-1574708553.jpg'"
            ]
          },
          "metadata": {},
          "execution_count": 150
        }
      ]
    },
    {
      "cell_type": "code",
      "metadata": {
        "id": "5qbv7XM5zci2"
      },
      "source": [
        "def get_url(image_count):\n",
        "  elements = driver.find_elements_by_xpath('//*[@class=\"isv-r PNCib MSM1fd BUooTd\"]')\n",
        "  count = 0\n",
        "  for item in elements:\n",
        "    item.click()\n",
        "  for item in elements:\n",
        "    item.click()\n",
        "    time.sleep(1)\n",
        "    click_window = driver.find_element_by_xpath('//*[@id=\"Sva75c\"]/div/div/div[3]/div[2]/c-wiz/div/div[1]/div[1]/div[2]/div/a')\n",
        "    soup = BeautifulSoup(click_window.get_attribute('innerHTML'), 'html.parser')\n",
        "    \n",
        "    try:\n",
        "      href.append(soup.img['src'])\n",
        "      print(count, soup.img['src'])\n",
        "    except:\n",
        "      print(count)\n",
        "    count+=1\n",
        "  return count"
      ],
      "execution_count": 167,
      "outputs": []
    },
    {
      "cell_type": "code",
      "metadata": {
        "id": "zXTKIEXN-YVY"
      },
      "source": [
        "driver.execute_script(\"window.scrollTo(0,document.body.scrollHeight)\")"
      ],
      "execution_count": 168,
      "outputs": []
    },
    {
      "cell_type": "code",
      "metadata": {
        "id": "_MkCKU5C1CQR"
      },
      "source": [
        "# driver.get(\"https://www.google.com/search?q=dog&sxsrf=AOaemvI6vIDEm_EKxndaPaUGuyQ0lOm3xg:1637259379175&source=lnms&tbm=isch&sa=X&ved=2ahUKEwj4oM29wqL0AhV54HMBHVmWDCYQ_AUoAXoECAEQAw&biw=1536&bih=796&dpr=1.25\")\n",
        "\n",
        "url = \"https://www.google.com/search?q=cat&tbm=isch&tbs=isz:l&hl=en&sa=X&ved=0CAIQpwVqFwoTCPC7nZeQqPQCFQAAAAAdAAAAABAC&biw=938&bih=771\"\n",
        "driver.get(url)\n",
        "\n",
        "href = []\n",
        "try:  \n",
        "  count = get_url(1)\n",
        "  print(count)\n",
        "except Exception as e:\n",
        "  print(\"Error------>\", e)"
      ],
      "execution_count": null,
      "outputs": []
    },
    {
      "cell_type": "code",
      "metadata": {
        "id": "bcIaxYWN9atL"
      },
      "source": [
        ""
      ],
      "execution_count": null,
      "outputs": []
    }
  ]
}